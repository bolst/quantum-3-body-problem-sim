{
 "cells": [
  {
   "cell_type": "markdown",
   "id": "81c8a060",
   "metadata": {
    "editable": true,
    "slideshow": {
     "slide_type": ""
    },
    "tags": []
   },
   "source": [
    "# Exact Results for the Three-Body Problem\n",
    "#### The Quantum Mechanics Solver - Dalibard (21)\n",
    "\n",
    "In this notebook I will be attempting to simulate a wavefunction within a Three-Body Harmonic Oscillator. I will use some concepts I learned in PHYS-3600: Computational Physics taught by Dr. Rau."
   ]
  },
  {
   "cell_type": "markdown",
   "id": "f6ca2a99",
   "metadata": {},
   "source": [
    "### Imports"
   ]
  },
  {
   "cell_type": "code",
   "execution_count": 74,
   "id": "8619c004-f4de-413e-b249-9042ce2417df",
   "metadata": {
    "jupyter": {
     "source_hidden": true
    }
   },
   "outputs": [],
   "source": [
    "import numpy as np\n",
    "import numba\n",
    "import matplotlib.pyplot as plt\n",
    "import scipy.fft\n",
    "from scipy.integrate import simpson as integrate\n",
    "%config InlineBackend.figure_format = 'retina'\n",
    "plt.rcParams[\"figure.figsize\"] = (4,4)"
   ]
  },
  {
   "cell_type": "markdown",
   "id": "bfdc7dad",
   "metadata": {},
   "source": [
    "In our case, we have defined our Hamiltonian for a Three-Body Harmonic Oscillator in the following way:\n",
    "\\begin{equation}\n",
    "\\hat{H} \\equiv \\hat{H}_1 + \\hat{H}_2 + \\hat{H}_{CM} = \\frac{\\hat{Q}_1^2}{2m} + \\frac{3}{2}\\kappa \\hat{R}_1^2 + \\frac{\\hat{Q}_2^2}{2m} + \\frac{3}{2}\\kappa \\hat{R}_2^2 + \\frac{\\hat{Q}_3^2}{2m}\n",
    "\\end{equation}\n",
    "\n",
    "where\n",
    "\n",
    "$$\n",
    "\\newcommand{wave}{\\Psi(\\mathbf{r}_1, \\mathbf{r}_2, \\mathbf{r}_3)}\n",
    "\\newcommand{potential}{V(\\mathbf{r}_1, \\mathbf{r}_2, \\mathbf{r}_3)}\n",
    "\\renewcommand{\\O}[1]{\\mathbf{\\hat{#1}}}\n",
    "\\braket{\\hat{Q}_1, \\hat{Q}_2, \\hat{Q}_3} = \\braket{\\frac{1}{\\sqrt{2}}(\\O{p}_1 - \\O{p}_2), \\frac{1}{\\sqrt{6}}(2\\O{p}_3 - \\O{p}_1 - \\O{p}_2), \\frac{1}{\\sqrt{3}}(\\O{p}_1 + \\O{p}_2 + \\O{p}_3)}\n",
    "$$\n",
    "$$\n",
    "\\braket{\\hat{R}_1, \\hat{R}_2, \\hat{R}_3} = \\braket{\\frac{1}{\\sqrt{2}}(\\O{r}_1 - \\O{r}_2), \\frac{1}{\\sqrt{6}}(2\\O{r}_3 - \\O{r}_1 - \\O{r}_2), \\frac{1}{\\sqrt{3}}(\\O{r}_1 + \\O{r}_2 + \\O{r}_3)}\n",
    "$$\n",
    "\n",
    "For convenience I will rewrite $ \\hat{H} $ in the following form\n",
    "\n",
    "\\begin{equation}\n",
    "\\hat{H} = \\left(\\frac{\\hat{Q}_1^2 + \\hat{Q}_2^2 + \\hat{Q}_3^2}{2m} + \\frac{3}{2}\\kappa \\left(\\hat{R}_1^2 + \\hat{R}_2^2\\right)\\right) \\equiv \\left(\\frac{\\O{p}^2}{2m} + V\\right)\n",
    "\\end{equation}\n",
    "\n",
    "So that we can express the TDSE as\n",
    "\n",
    "\\begin{equation}\n",
    "i\\hbar \\frac{\\partial}{\\partial t}\\wave = \\left(\\frac{\\O{p}^2}{2m} + \\potential\\right)\\wave\n",
    "\\end{equation}\n",
    "\n",
    "For our wavefunction, I will use an initial state of a Gaussian wave packet: $\\wave = \\exp\\left[-\\frac{1}{2}\\left(\\hat{R}_1^2 + \\hat{R}_2^2 + \\hat{R}_3^2\\right)\\right]$."
   ]
  },
  {
   "cell_type": "code",
   "execution_count": 91,
   "id": "25ff666f-d4d5-44b6-9565-9e09ad8eab4d",
   "metadata": {
    "jupyter": {
     "source_hidden": true
    }
   },
   "outputs": [],
   "source": [
    "# manually compute normalization constant of a distribution\n",
    "def compute_norm(G,X):\n",
    "    return 1 / np.sqrt(integrate(y=np.abs(G)**2, x=X))\n",
    "\n",
    "# normalized Gaussian constructor\n",
    "# returns 3d array of each component ( e^(r1+r2+r3) = (e^r1)(e^r2)(e^r3) )\n",
    "def Ψ_r(r1,r2,r3,X):\n",
    "    # Jacobi variables\n",
    "    R1 = X - (r1 - r2) / np.sqrt(2)\n",
    "    R2 = X - (2*r3 - r1 - r2) / np.sqrt(6)\n",
    "    R3 = X - (r1 + r2 + r3) / np.sqrt(3)\n",
    "\n",
    "    retval = []\n",
    "    for R in [R1,R2,R3]:\n",
    "        G = np.exp(-0.5*R**2)\n",
    "        C = compute_norm(G,X)\n",
    "        retval.append( C * G )\n",
    "    return retval\n",
    "\n",
    "def V_r(r1,r2,r3,κ=0.05,X=0):\n",
    "    R1 = X - (r1 - r2) / np.sqrt(2)\n",
    "    R2 = X - (2*r3 - r1 - r2) / np.sqrt(6)\n",
    "    return (3/2)*κ*(R1**2 + R2**2)"
   ]
  },
  {
   "cell_type": "markdown",
   "id": "29ec353b-3102-45f7-9cd9-ddc0b73b2012",
   "metadata": {},
   "source": [
    "We're solving the time-dependent Schrodinger equation (in 1D)\n",
    "$$\n",
    "i\\hbar \\frac{\\partial \\psi(r_1,r_2,r_3,t)}{\\partial t} = \n",
    "\\left(\\frac{\\O{p}^2}{2m} + V(r_1,r_2,r_3)\\right) \\psi(r_1,r_2,r_3,t)\n",
    "\\equiv \\hat{H} \\psi(r_1,r_2,r_3,t)\n",
    "$$\n",
    "with periodic boundary conditions on an interval $[-L/2,L/2]$. Recall that $\\hat{p_\\mu} \\equiv -i\\hbar \\frac{d}{dr_\\mu}$. We will use a split-step and approximate the time-evolution operator $\\hat{U}(\\delta_t)$ for small $\\delta_t$ as\n",
    "$$\n",
    "\\psi(r_1,r_2,r_3,t+\\delta_t) =\n",
    "e^{-i\\delta_t \\hat{H}/\\hbar} \\psi(r_1,r_2,r_3,t)\n",
    "\\approx \n",
    "e^{-i\\delta_t \\left(\\hat{Q_1^2} + \\hat{Q_2^2} + \\hat{Q_3^2}\\right)/(2m \\hbar)}e^{-i\\delta_t V(r_1,r_2,r_3)/\\hbar} \\psi(r_1,r_2,r_3,t)\n",
    "$$\n",
    "\n",
    "We can treat the momentum part of each body separately, since $ Q_1^2 + Q_2^2 + Q_3^2 = p_1^2 + p_2^2 + p_3^2 $. For the potential part, we need to know $r_1, r_2, r_3$ at each step. I will make a relatively bold assumption that the peak of each wave packet corresponds to its $r$.\n",
    "\n",
    "We'll do this on a finite grid with points $r_{\\mu,n} \\equiv n \\delta_{r_\\mu}$ where $n=0,1,2,\\cdots,N_x-1$ and $\\delta_{r_\\mu} = L/N_x$.\n",
    "\n",
    "We will also leverage FFT's from `scipy.fft` for calculating our momentum steps"
   ]
  },
  {
   "cell_type": "code",
   "execution_count": 92,
   "id": "fee98fd0-1f04-4116-944c-b65b6487e1f3",
   "metadata": {
    "jupyter": {
     "source_hidden": true
    }
   },
   "outputs": [],
   "source": [
    "def fft_fwd(ψ,L=1.0): # from ψ to ψ tilde\n",
    "    Nx = len(ψ)\n",
    "    ψt = 1.0/Nx*scipy.fft.fft(ψ*(-1)**np.arange(0,Nx))\n",
    "    return ψt    \n",
    "\n",
    "def fft_bwd(ψt,L=1.0): # ψ tilde -> ψ\n",
    "    Nx = len(ψt)\n",
    "    ψ = Nx*scipy.fft.ifft(ψt)*(-1)**np.arange(0,Nx)\n",
    "    return ψ"
   ]
  },
  {
   "cell_type": "code",
   "execution_count": 103,
   "id": "19da6a24-4108-4322-879e-ff20067278ed",
   "metadata": {},
   "outputs": [],
   "source": [
    "def potential_step(ψ0, # complex array of size Nx\n",
    "                   V0, # real array of size Nx\n",
    "                   X,  # real array of size Nx\n",
    "                   δt, # time step\n",
    "                   ħ=1.0):\n",
    "    ψ = np.exp(-1j*V0*δt/ħ)*ψ0 # element-wise multiplication\n",
    "\n",
    "    # update potential\n",
    "    Nx = len(X)\n",
    "    ψ01,ψ02,ψ03 = ψ0\n",
    "    r1,r2,r3 = X[np.argmax(ψ01)],X[np.argmax(ψ02)],X[np.argmax(ψ03)] # assume r1,r2,r3 are the max of each distribution\n",
    "    r1,r2,r3 = np.linspace(0,r1,Nx), np.linspace(0,r2,Nx), np.linspace(0,r3,Nx) \n",
    "    V = np.full(Nx, V_r(r1,r2,r3))\n",
    "    \n",
    "    return ψ,V\n",
    "\n",
    "def kinetic_step(ψ0, # complex array of size Nx\n",
    "                 δt, # time step\n",
    "                 ħ=1,L=1,m=1):\n",
    "    Nx = len(ψ0)\n",
    "    \n",
    "    # to momentum space\n",
    "    ψt1 = fft_fwd(ψ0,L=L)\n",
    "    \n",
    "    # evolved in momentum space\n",
    "    K = 2.0*np.pi/L*np.arange(-Nx//2,Nx//2)\n",
    "    E = ħ**2*K**2/(2*m) # energy of a wave packet = ħ^2 k^2 / 2m\n",
    "    ψt2 = np.exp(-1j*δt/ħ*E)*ψt1\n",
    "    \n",
    "    # from momentum space    \n",
    "    return fft_bwd(ψt2,L=L)"
   ]
  },
  {
   "cell_type": "code",
   "execution_count": 104,
   "id": "b1a15a46-e3e4-4d30-a3b0-9bfea0fc34fa",
   "metadata": {
    "jupyter": {
     "source_hidden": true
    }
   },
   "outputs": [],
   "source": [
    "# step method\n",
    "def verlet_split(ψ0,V0,X,δt,ħ=1,m=1,L=1):    \n",
    "    χ1,V1  = potential_step(ψ0,V0,X,0.5*δt,ħ=ħ)   \n",
    "\n",
    "    # compute for r1,r2,r3\n",
    "    χ2 = []\n",
    "    for χ in χ1:\n",
    "        χ2i    = kinetic_step(χ,δt,ħ=ħ,m=m,L=L)\n",
    "        C      = compute_norm(χ2i,X)\n",
    "        χ2.append(C * χ2i)\n",
    "    \n",
    "    χ3,V = potential_step(χ2,V1,X,0.5*δt,ħ=ħ)\n",
    "    return χ3,V\n",
    "\n",
    "# evolver\n",
    "def evolve_split_step(ψ0,V0,X,δt,Nt,L=1.0,m=1.0,ħ=1.0,step=verlet_split):\n",
    "    Nx = len(X)\n",
    "    T = np.linspace(0,Nt*δt,Nt,endpoint=False)\n",
    "    Ψ = np.zeros((3,Nx,Nt),dtype=np.complex128)\n",
    "    V = np.zeros((Nx,Nt),dtype=np.complex128)\n",
    "    \n",
    "    Ψ[:,:,0] = ψ0\n",
    "    V[:,0] = V0\n",
    "    for it in range(Nt-1):\n",
    "        Ψ[:,:,it+1],V[:,it+1] = step(Ψ[:,:,it],V[:,it],X,δt,ħ=ħ,m=m,L=L)\n",
    "    return T,Ψ,V"
   ]
  },
  {
   "cell_type": "code",
   "execution_count": 108,
   "id": "bc356bc8-4fa8-4da9-9978-40b25069a24b",
   "metadata": {},
   "outputs": [
    {
     "data": {
      "text/plain": [
       "Text(0.5, 0, 'x')"
      ]
     },
     "execution_count": 108,
     "metadata": {},
     "output_type": "execute_result"
    },
    {
     "data": {
      "image/png": "[encoded data removed]",
      "text/plain": [
       "<Figure size 400x400 with 1 Axes>"
      ]
     },
     "metadata": {
      "image/png": {
       "height": 371,
       "width": 361
      }
     },
     "output_type": "display_data"
    }
   ],
   "source": [
    "L  = 20\n",
    "Nx = 1000\n",
    "X = np.linspace(-L/2,L/2,Nx,endpoint=False)\n",
    "\n",
    "# initial conditions\n",
    "r1,r2,r3 = -5,1,4\n",
    "r1,r2,r3 = np.linspace(0,r1,Nx), np.linspace(0,r2,Nx), np.linspace(0,r3,Nx)\n",
    "V0 = V_r(r1,r2,r3)\n",
    "V = np.full(Nx,V0)\n",
    "\n",
    "ψ01,ψ02,ψ03 = Ψ_r(r1,r2,r3,X)\n",
    "\n",
    "tf  = 8*np.pi\n",
    "Nt = 5000\n",
    "δt = tf/Nt\n",
    "\n",
    "plt.plot(X,V,color='gray')\n",
    "plt.plot(X,np.real(ψ01),color='r')\n",
    "plt.plot(X,np.imag(ψ01),color='r')\n",
    "plt.plot(X,np.real(ψ02),color='b')\n",
    "plt.plot(X,np.imag(ψ02),color='b')\n",
    "plt.plot(X,np.real(ψ03),color='g')\n",
    "plt.plot(X,np.imag(ψ03),color='g')\n",
    "#plt.ylim(-0.5,1.5)\n",
    "#plt.xlim(-10,10)\n",
    "plt.xlabel('x')"
   ]
  },
  {
   "cell_type": "code",
   "execution_count": 109,
   "id": "8a47bbab-e86b-4225-bee8-ae467f9dae88",
   "metadata": {},
   "outputs": [
    {
     "name": "stdout",
     "output_type": "stream",
     "text": [
      "CPU times: total: 3.5 s\n",
      "Wall time: 6.85 s\n"
     ]
    }
   ],
   "source": [
    "%time T,Ψ,V = evolve_split_step([ψ01,ψ02,ψ03],V,X,δt,Nt,L=L)"
   ]
  },
  {
   "cell_type": "code",
   "execution_count": 116,
   "id": "9e39f535-8070-4675-b4b7-1939d02c98cd",
   "metadata": {},
   "outputs": [
    {
     "data": {
      "application/vnd.jupyter.widget-view+json": {
       "model_id": "3420680eda43406790449d144d22424d",
       "version_major": 2,
       "version_minor": 0
      },
      "text/plain": [
       "interactive(children=(FloatSlider(value=0.0, description='t', max=25.132741228718345, step=0.00502654824574366…"
      ]
     },
     "metadata": {},
     "output_type": "display_data"
    }
   ],
   "source": [
    "import ipywidgets as widgets\n",
    "@widgets.interact(t=(0.0,tf,δt))\n",
    "def disp(t=0):\n",
    "    it = int(t/tf*(Nt-1))\n",
    "    for i,color in zip(range(3),['r','b','g']):\n",
    "        φ = V[:,it]\n",
    "        ψ = Ψ[i,:,it]\n",
    "        plt.plot(X,φ,color='gray')\n",
    "        #plt.plot(X,np.real(ψ),color=color)\n",
    "        #plt.plot(X,np.imag(ψ),color=color)\n",
    "        plt.plot(X,np.abs(ψ),color=color)\n",
    "    plt.ylim(-0.5,1)\n",
    "    plt.xlim(-L/2,L/2)"
   ]
  },
  {
   "cell_type": "code",
   "execution_count": null,
   "id": "bbad0ead-54db-4eb0-8a77-0e2292d983f8",
   "metadata": {},
   "outputs": [],
   "source": []
  }
 ],
 "metadata": {
  "kernelspec": {
   "display_name": "Python 3 (ipykernel)",
   "language": "python",
   "name": "python3"
  },
  "language_info": {
   "codemirror_mode": {
    "name": "ipython",
    "version": 3
   },
   "file_extension": ".py",
   "mimetype": "text/x-python",
   "name": "python",
   "nbconvert_exporter": "python",
   "pygments_lexer": "ipython3",
   "version": "3.12.2"
  }
 },
 "nbformat": 4,
 "nbformat_minor": 5
}
